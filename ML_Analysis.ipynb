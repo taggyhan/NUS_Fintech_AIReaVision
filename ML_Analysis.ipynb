{
 "cells": [
  {
   "cell_type": "code",
   "execution_count": 1,
   "id": "ed4cbd61",
   "metadata": {},
   "outputs": [
    {
     "name": "stdout",
     "output_type": "stream",
     "text": [
      "                                   Address  Property Type  Bedrooms  \\\n",
      "0                   2 Dunman Road (439188)              0         5   \n",
      "1                            Shelford Road              1         5   \n",
      "2  60H Kent Ridge Hill Residences (117321)              0         1   \n",
      "3                               Marina Way              0         1   \n",
      "4                           Lentor Central              0         1   \n",
      "\n",
      "   Bathrooms  Asking Price  Size  Age  District  Years_Left  Primary Schools  \\\n",
      "0          3       3764000  1679   54        15        45.0                3   \n",
      "1          4      10000000  5134   41        11      9958.0                2   \n",
      "2          1       1030000   474    1         5        98.0                0   \n",
      "3          1       1630000   700    7         1        92.0                1   \n",
      "4          1       1358000   527   94        26         5.0                3   \n",
      "\n",
      "   Secondary Schools  Shopping Malls  Groceries & Supermarts  \\\n",
      "0                  3               3                       3   \n",
      "1                  3               1                       3   \n",
      "2                  0               3                       3   \n",
      "3                  0               3                       3   \n",
      "4                  3               1                       3   \n",
      "\n",
      "   No. of Amenities  Latitude   Longitude  \n",
      "0                12  1.307933  103.890372  \n",
      "1                 9  1.325062  103.812525  \n",
      "2                 6  1.281103  103.790179  \n",
      "3                 7  1.277143  103.853886  \n",
      "4                10  1.385547  103.834165  \n"
     ]
    }
   ],
   "source": [
    "import pandas as pd\n",
    "import os\n",
    "\n",
    "# Define the directory containing your files\n",
    "directory = 'data'\n",
    "\n",
    "# List all CSV files in the directory\n",
    "csv_files = [f for f in os.listdir(directory) if f.startswith('geocoded_addresses') and f.endswith('.csv')]\n",
    "\n",
    "# Sort the files by name to maintain the order (optional, depending on your needs)\n",
    "csv_files.sort()\n",
    "\n",
    "# Create an empty list to hold DataFrames\n",
    "dataframes = []\n",
    "\n",
    "# Loop through the files and read each one into a DataFrame\n",
    "for file in csv_files:\n",
    "    file_path = os.path.join(directory, file)\n",
    "    df = pd.read_csv(file_path)\n",
    "    dataframes.append(df)\n",
    "\n",
    "# Concatenate all the DataFrames in the list into a single DataFrame\n",
    "combined_df = pd.concat(dataframes, ignore_index=True)\n",
    "\n",
    "# Now you can use combined_df as your single DataFrame containing all data\n",
    "print(combined_df.head())  # to display the first few rows of the combined DataFrame\n",
    "df = combined_df\n"
   ]
  },
  {
   "cell_type": "code",
   "execution_count": 2,
   "id": "08c434d3",
   "metadata": {},
   "outputs": [
    {
     "data": {
      "text/plain": [
       "21369"
      ]
     },
     "execution_count": 2,
     "metadata": {},
     "output_type": "execute_result"
    }
   ],
   "source": [
    "len(df)"
   ]
  },
  {
   "cell_type": "code",
   "execution_count": 3,
   "id": "20d75468",
   "metadata": {},
   "outputs": [],
   "source": [
    "df.dropna(subset=['Latitude', 'Longitude','Years_Left'], inplace=True)"
   ]
  },
  {
   "cell_type": "code",
   "execution_count": 4,
   "id": "78389417",
   "metadata": {},
   "outputs": [],
   "source": [
    "import pandas as pd\n",
    "\n",
    "# Assuming df is your DataFrame\n",
    "# Drop the 'Address' column\n",
    "df = df.drop(columns=['Address'])\n",
    "\n",
    "# Ensure 'Years_Left' is of type float\n",
    "df['Years_Left'] = df['Years_Left'].astype(float)\n"
   ]
  },
  {
   "cell_type": "code",
   "execution_count": 5,
   "id": "628b3828",
   "metadata": {},
   "outputs": [],
   "source": [
    "# One-hot encode 'District'\n",
    "df = pd.get_dummies(df, columns=['District'])\n"
   ]
  },
  {
   "cell_type": "code",
   "execution_count": 6,
   "id": "76ebf8a2",
   "metadata": {},
   "outputs": [],
   "source": [
    "import pandas as pd\n",
    "from scipy.spatial import cKDTree\n",
    "import numpy as np\n",
    "def add_spatial_density(df, radius=0.0005):  # Adjust the radius based on your geographic context\n",
    "    # Convert latitude and longitude to radians for use in KDTree (which assumes spherical earth)\n",
    "    coords = np.radians(df[['Latitude', 'Longitude']].values)\n",
    "    tree = cKDTree(coords)\n",
    "    \n",
    "    # Query the KDTree to count neighbors within the specified radius\n",
    "    counts = tree.query_ball_point(coords, radius, return_length=True)\n",
    "    \n",
    "    # Add the counts as a new column to the dataframe\n",
    "    df['spatial_density'] = counts\n",
    "    return df\n"
   ]
  },
  {
   "cell_type": "code",
   "execution_count": 7,
   "id": "ead89dac",
   "metadata": {},
   "outputs": [],
   "source": [
    "df = add_spatial_density(df)\n"
   ]
  },
  {
   "cell_type": "code",
   "execution_count": 8,
   "id": "95f6480a",
   "metadata": {},
   "outputs": [
    {
     "data": {
      "text/plain": [
       "16431"
      ]
     },
     "execution_count": 8,
     "metadata": {},
     "output_type": "execute_result"
    }
   ],
   "source": [
    "len(df)"
   ]
  },
  {
   "cell_type": "code",
   "execution_count": 9,
   "id": "a3eb83cf",
   "metadata": {},
   "outputs": [
    {
     "data": {
      "text/plain": [
       "364     240\n",
       "920     146\n",
       "980     136\n",
       "3543    132\n",
       "1831    121\n",
       "       ... \n",
       "1520      1\n",
       "2175      1\n",
       "1337      1\n",
       "1238      1\n",
       "2256      1\n",
       "Name: spatial_density, Length: 1767, dtype: int64"
      ]
     },
     "execution_count": 9,
     "metadata": {},
     "output_type": "execute_result"
    }
   ],
   "source": [
    "df['spatial_density'].value_counts()"
   ]
  },
  {
   "cell_type": "code",
   "execution_count": null,
   "id": "d063dd40",
   "metadata": {},
   "outputs": [],
   "source": []
  },
  {
   "cell_type": "code",
   "execution_count": 10,
   "id": "b06b5d49",
   "metadata": {},
   "outputs": [
    {
     "data": {
      "text/plain": [
       "['scaler.joblib']"
      ]
     },
     "execution_count": 10,
     "metadata": {},
     "output_type": "execute_result"
    }
   ],
   "source": [
    "from sklearn.preprocessing import StandardScaler\n",
    "import joblib\n",
    "# Assuming df is your DataFrame and selecting numeric columns for scaling\n",
    "numeric_cols = ['Bedrooms', 'Bathrooms', 'Size', 'Age', 'Years_Left', \n",
    "                'No. of Amenities','spatial_density']\n",
    "\n",
    "# Initialize the StandardScaler\n",
    "scaler = StandardScaler()\n",
    "\n",
    "# Fit and transform the data\n",
    "df[numeric_cols] = scaler.fit_transform(df[numeric_cols])\n",
    "joblib.dump(scaler, \"scaler.joblib\")"
   ]
  },
  {
   "cell_type": "code",
   "execution_count": 11,
   "id": "af0a9511",
   "metadata": {},
   "outputs": [
    {
     "data": {
      "text/plain": [
       "Index(['Property Type', 'Bedrooms', 'Bathrooms', 'Asking Price', 'Size', 'Age',\n",
       "       'Years_Left', 'Primary Schools', 'Secondary Schools', 'Shopping Malls',\n",
       "       'Groceries & Supermarts', 'No. of Amenities', 'Latitude', 'Longitude',\n",
       "       'District_1', 'District_2', 'District_3', 'District_4', 'District_5',\n",
       "       'District_6', 'District_7', 'District_8', 'District_9', 'District_10',\n",
       "       'District_11', 'District_12', 'District_13', 'District_14',\n",
       "       'District_15', 'District_16', 'District_17', 'District_18',\n",
       "       'District_19', 'District_20', 'District_21', 'District_22',\n",
       "       'District_23', 'District_24', 'District_25', 'District_26',\n",
       "       'District_27', 'District_28', 'spatial_density'],\n",
       "      dtype='object')"
      ]
     },
     "execution_count": 11,
     "metadata": {},
     "output_type": "execute_result"
    }
   ],
   "source": [
    "df.columns"
   ]
  },
  {
   "cell_type": "code",
   "execution_count": 12,
   "id": "234156b6",
   "metadata": {},
   "outputs": [
    {
     "data": {
      "text/html": [
       "<div>\n",
       "<style scoped>\n",
       "    .dataframe tbody tr th:only-of-type {\n",
       "        vertical-align: middle;\n",
       "    }\n",
       "\n",
       "    .dataframe tbody tr th {\n",
       "        vertical-align: top;\n",
       "    }\n",
       "\n",
       "    .dataframe thead th {\n",
       "        text-align: right;\n",
       "    }\n",
       "</style>\n",
       "<table border=\"1\" class=\"dataframe\">\n",
       "  <thead>\n",
       "    <tr style=\"text-align: right;\">\n",
       "      <th></th>\n",
       "      <th>Property Type</th>\n",
       "      <th>Bedrooms</th>\n",
       "      <th>Bathrooms</th>\n",
       "      <th>Asking Price</th>\n",
       "      <th>Size</th>\n",
       "      <th>Age</th>\n",
       "      <th>Years_Left</th>\n",
       "      <th>Primary Schools</th>\n",
       "      <th>Secondary Schools</th>\n",
       "      <th>Shopping Malls</th>\n",
       "      <th>...</th>\n",
       "      <th>District_20</th>\n",
       "      <th>District_21</th>\n",
       "      <th>District_22</th>\n",
       "      <th>District_23</th>\n",
       "      <th>District_24</th>\n",
       "      <th>District_25</th>\n",
       "      <th>District_26</th>\n",
       "      <th>District_27</th>\n",
       "      <th>District_28</th>\n",
       "      <th>spatial_density</th>\n",
       "    </tr>\n",
       "  </thead>\n",
       "  <tbody>\n",
       "    <tr>\n",
       "      <th>0</th>\n",
       "      <td>0</td>\n",
       "      <td>2.132232</td>\n",
       "      <td>0.597814</td>\n",
       "      <td>3764000</td>\n",
       "      <td>0.024462</td>\n",
       "      <td>1.314357</td>\n",
       "      <td>-0.731087</td>\n",
       "      <td>3</td>\n",
       "      <td>3</td>\n",
       "      <td>3</td>\n",
       "      <td>...</td>\n",
       "      <td>0</td>\n",
       "      <td>0</td>\n",
       "      <td>0</td>\n",
       "      <td>0</td>\n",
       "      <td>0</td>\n",
       "      <td>0</td>\n",
       "      <td>0</td>\n",
       "      <td>0</td>\n",
       "      <td>0</td>\n",
       "      <td>-0.393894</td>\n",
       "    </tr>\n",
       "    <tr>\n",
       "      <th>1</th>\n",
       "      <td>1</td>\n",
       "      <td>2.132232</td>\n",
       "      <td>1.459755</td>\n",
       "      <td>10000000</td>\n",
       "      <td>0.281411</td>\n",
       "      <td>0.803582</td>\n",
       "      <td>1.386332</td>\n",
       "      <td>2</td>\n",
       "      <td>3</td>\n",
       "      <td>1</td>\n",
       "      <td>...</td>\n",
       "      <td>0</td>\n",
       "      <td>0</td>\n",
       "      <td>0</td>\n",
       "      <td>0</td>\n",
       "      <td>0</td>\n",
       "      <td>0</td>\n",
       "      <td>0</td>\n",
       "      <td>0</td>\n",
       "      <td>0</td>\n",
       "      <td>-0.339243</td>\n",
       "    </tr>\n",
       "    <tr>\n",
       "      <th>2</th>\n",
       "      <td>0</td>\n",
       "      <td>-1.435366</td>\n",
       "      <td>-1.126068</td>\n",
       "      <td>1030000</td>\n",
       "      <td>-0.065154</td>\n",
       "      <td>-0.768034</td>\n",
       "      <td>-0.719766</td>\n",
       "      <td>0</td>\n",
       "      <td>0</td>\n",
       "      <td>3</td>\n",
       "      <td>...</td>\n",
       "      <td>0</td>\n",
       "      <td>0</td>\n",
       "      <td>0</td>\n",
       "      <td>0</td>\n",
       "      <td>0</td>\n",
       "      <td>0</td>\n",
       "      <td>0</td>\n",
       "      <td>0</td>\n",
       "      <td>0</td>\n",
       "      <td>-0.806122</td>\n",
       "    </tr>\n",
       "    <tr>\n",
       "      <th>3</th>\n",
       "      <td>0</td>\n",
       "      <td>-1.435366</td>\n",
       "      <td>-1.126068</td>\n",
       "      <td>1630000</td>\n",
       "      <td>-0.048346</td>\n",
       "      <td>-0.532292</td>\n",
       "      <td>-0.721048</td>\n",
       "      <td>1</td>\n",
       "      <td>0</td>\n",
       "      <td>3</td>\n",
       "      <td>...</td>\n",
       "      <td>0</td>\n",
       "      <td>0</td>\n",
       "      <td>0</td>\n",
       "      <td>0</td>\n",
       "      <td>0</td>\n",
       "      <td>0</td>\n",
       "      <td>0</td>\n",
       "      <td>0</td>\n",
       "      <td>0</td>\n",
       "      <td>0.334791</td>\n",
       "    </tr>\n",
       "    <tr>\n",
       "      <th>4</th>\n",
       "      <td>0</td>\n",
       "      <td>-1.435366</td>\n",
       "      <td>-1.126068</td>\n",
       "      <td>1358000</td>\n",
       "      <td>-0.061212</td>\n",
       "      <td>2.885974</td>\n",
       "      <td>-0.739631</td>\n",
       "      <td>3</td>\n",
       "      <td>3</td>\n",
       "      <td>1</td>\n",
       "      <td>...</td>\n",
       "      <td>0</td>\n",
       "      <td>0</td>\n",
       "      <td>0</td>\n",
       "      <td>0</td>\n",
       "      <td>0</td>\n",
       "      <td>0</td>\n",
       "      <td>1</td>\n",
       "      <td>0</td>\n",
       "      <td>0</td>\n",
       "      <td>-1.189722</td>\n",
       "    </tr>\n",
       "  </tbody>\n",
       "</table>\n",
       "<p>5 rows × 43 columns</p>\n",
       "</div>"
      ],
      "text/plain": [
       "   Property Type  Bedrooms  Bathrooms  Asking Price      Size       Age  \\\n",
       "0              0  2.132232   0.597814       3764000  0.024462  1.314357   \n",
       "1              1  2.132232   1.459755      10000000  0.281411  0.803582   \n",
       "2              0 -1.435366  -1.126068       1030000 -0.065154 -0.768034   \n",
       "3              0 -1.435366  -1.126068       1630000 -0.048346 -0.532292   \n",
       "4              0 -1.435366  -1.126068       1358000 -0.061212  2.885974   \n",
       "\n",
       "   Years_Left  Primary Schools  Secondary Schools  Shopping Malls  ...  \\\n",
       "0   -0.731087                3                  3               3  ...   \n",
       "1    1.386332                2                  3               1  ...   \n",
       "2   -0.719766                0                  0               3  ...   \n",
       "3   -0.721048                1                  0               3  ...   \n",
       "4   -0.739631                3                  3               1  ...   \n",
       "\n",
       "   District_20  District_21  District_22  District_23  District_24  \\\n",
       "0            0            0            0            0            0   \n",
       "1            0            0            0            0            0   \n",
       "2            0            0            0            0            0   \n",
       "3            0            0            0            0            0   \n",
       "4            0            0            0            0            0   \n",
       "\n",
       "   District_25  District_26  District_27  District_28  spatial_density  \n",
       "0            0            0            0            0        -0.393894  \n",
       "1            0            0            0            0        -0.339243  \n",
       "2            0            0            0            0        -0.806122  \n",
       "3            0            0            0            0         0.334791  \n",
       "4            0            1            0            0        -1.189722  \n",
       "\n",
       "[5 rows x 43 columns]"
      ]
     },
     "execution_count": 12,
     "metadata": {},
     "output_type": "execute_result"
    }
   ],
   "source": [
    "df.head()"
   ]
  },
  {
   "cell_type": "markdown",
   "id": "a19d08b9",
   "metadata": {},
   "source": [
    "# Creating the model"
   ]
  },
  {
   "cell_type": "code",
   "execution_count": 13,
   "id": "dcdb7d4c",
   "metadata": {},
   "outputs": [],
   "source": [
    "from sklearn.model_selection import train_test_split\n",
    "\n",
    "# Assume 'df' is your DataFrame and it's ready for splitting\n",
    "# 'X' contains all features except the target variable 'Asking Price'\n",
    "# 'y' is the target variable 'Asking Price'# Exclude the 'geohash' column from the feature set\n",
    "X = df.drop(['Asking Price','Latitude', 'Longitude', 'Primary Schools', 'Secondary Schools', 'Shopping Malls', 'Groceries & Supermarts',], axis=1)  # Assuming 'Asking Price' is your target variable\n",
    "y = df['Asking Price']\n",
    "\n",
    "# Split the dataset into training (80%) and testing (20%) sets\n",
    "X_train, X_test, y_train, y_test = train_test_split(X, y, test_size=0.2, random_state=42)\n",
    "\n"
   ]
  },
  {
   "cell_type": "code",
   "execution_count": 14,
   "id": "6b9e5c10",
   "metadata": {},
   "outputs": [
    {
     "data": {
      "text/plain": [
       "Index(['Property Type', 'Bedrooms', 'Bathrooms', 'Size', 'Age', 'Years_Left',\n",
       "       'No. of Amenities', 'District_1', 'District_2', 'District_3',\n",
       "       'District_4', 'District_5', 'District_6', 'District_7', 'District_8',\n",
       "       'District_9', 'District_10', 'District_11', 'District_12',\n",
       "       'District_13', 'District_14', 'District_15', 'District_16',\n",
       "       'District_17', 'District_18', 'District_19', 'District_20',\n",
       "       'District_21', 'District_22', 'District_23', 'District_24',\n",
       "       'District_25', 'District_26', 'District_27', 'District_28',\n",
       "       'spatial_density'],\n",
       "      dtype='object')"
      ]
     },
     "execution_count": 14,
     "metadata": {},
     "output_type": "execute_result"
    }
   ],
   "source": [
    "X.columns"
   ]
  },
  {
   "cell_type": "code",
   "execution_count": 62,
   "id": "76c36c4d",
   "metadata": {},
   "outputs": [],
   "source": [
    "# Example price thresholds\n",
    "low_price_threshold = 1300000\n",
    "high_price_threshold = 3000000\n",
    "\n",
    "# Splitting the dataset\n",
    "low_price_data = df[df['Asking Price'] <= low_price_threshold]\n",
    "mid_price_data = df[(df['Asking Price'] > low_price_threshold) & (df['Asking Price'] <= high_price_threshold)]\n",
    "high_price_data = df[df['Asking Price'] > high_price_threshold]\n"
   ]
  },
  {
   "cell_type": "code",
   "execution_count": 64,
   "id": "e73dca4b",
   "metadata": {},
   "outputs": [
    {
     "name": "stdout",
     "output_type": "stream",
     "text": [
      "Random Forest - Low Price Segment:\n",
      "Low Price - Random Forest MSE: 17093270046.318638\n",
      "Low Price - Random Forest MAE: 71495.49145618107\n",
      "Low Price - Relative Error: 245.913214083531%\n",
      "Low Price - Best Parameters: {'max_depth': 20, 'min_samples_split': 8, 'n_estimators': 130}\n",
      "Random Forest - Mid Price Segment:\n",
      "Mid Price - Random Forest MSE: 30436844066.1041\n",
      "Mid Price - Random Forest MAE: 118131.89592304431\n",
      "Mid Price - Relative Error: 6.0885030122184425%\n",
      "Mid Price - Best Parameters: {'max_depth': 30, 'min_samples_split': 2, 'n_estimators': 250}\n",
      "Random Forest - High Price Segment:\n",
      "High Price - Random Forest MSE: 2300658645856.1133\n",
      "High Price - Random Forest MAE: 585372.4853863202\n",
      "High Price - Relative Error: 8.05819373829664%\n",
      "High Price - Best Parameters: {'max_depth': 70, 'min_samples_split': 2, 'n_estimators': 100}\n"
     ]
    }
   ],
   "source": [
    "import os\n",
    "import numpy as np\n",
    "from sklearn.metrics import mean_squared_error, mean_absolute_error\n",
    "import joblib\n",
    "from sklearn.ensemble import RandomForestRegressor\n",
    "from sklearn.model_selection import train_test_split, GridSearchCV\n",
    "def train_rf_and_evaluate(data, segment_name):\n",
    "    X = data.drop(['Asking Price', 'Latitude', 'Longitude'], axis=1)\n",
    "    y = data['Asking Price']\n",
    "    X_train, X_test, y_train, y_test = train_test_split(X, y, test_size=0.2, random_state=42)\n",
    "\n",
    "    rf = RandomForestRegressor()\n",
    "    param_grid = {\n",
    "        'n_estimators': [100, 130, 150, 250, 300],\n",
    "        'max_depth': [20, 30, 70, 150],\n",
    "        'min_samples_split': [2, 5, 8]\n",
    "    }\n",
    "    grid_search = GridSearchCV(estimator=rf, param_grid=param_grid, cv=3, scoring='neg_mean_squared_error', n_jobs=-1)\n",
    "    grid_search.fit(X_train, y_train)\n",
    "    best_rf = grid_search.best_estimator_\n",
    "    \n",
    "    y_pred = best_rf.predict(X_test)\n",
    "    mse = mean_squared_error(y_test, y_pred)\n",
    "    mae = mean_absolute_error(y_test, y_pred)\n",
    "    relative_error = np.mean(np.abs((y_test - y_pred) / y_test)) * 100\n",
    "    \n",
    "    print(f'{segment_name} - Random Forest MSE: {mse}')\n",
    "    print(f'{segment_name} - Random Forest MAE: {mae}')\n",
    "    print(f'{segment_name} - Relative Error: {relative_error}%')\n",
    "    print(f\"{segment_name} - Best Parameters:\", grid_search.best_params_)\n",
    "    \n",
    "    # Save the best model in the current working directory\n",
    "    save_path = os.getcwd()\n",
    "    save_file = os.path.join(save_path, f\"best_rf_{segment_name}.joblib\")\n",
    "    joblib.dump(best_rf, save_file)\n",
    "\n",
    "# Assuming low_price_data, mid_price_data, and high_price_data are already defined and appropriately preprocessed\n",
    "print(\"Random Forest - Low Price Segment:\")\n",
    "train_rf_and_evaluate(low_price_data, \"Low Price\")\n",
    "\n",
    "print(\"Random Forest - Mid Price Segment:\")\n",
    "train_rf_and_evaluate(mid_price_data, \"Mid Price\")\n",
    "\n",
    "print(\"Random Forest - High Price Segment:\")\n",
    "train_rf_and_evaluate(high_price_data, \"High Price\")\n"
   ]
  },
  {
   "cell_type": "code",
   "execution_count": 15,
   "id": "365bb64f",
   "metadata": {},
   "outputs": [],
   "source": [
    "import os\n",
    "import numpy as np\n",
    "from sklearn.metrics import mean_squared_error, mean_absolute_error\n",
    "import joblib\n",
    "from sklearn.ensemble import RandomForestRegressor\n",
    "from sklearn.model_selection import train_test_split, GridSearchCV\n",
    "def train_rf_and_evaluate(data, segment_name):\n",
    "    X = data.drop(['Asking Price', 'Latitude', 'Longitude'], axis=1)\n",
    "    y = data['Asking Price']\n",
    "    X_train, X_test, y_train, y_test = train_test_split(X, y, test_size=0.2, random_state=42)\n",
    "\n",
    "    rf = RandomForestRegressor()\n",
    "    param_grid = {\n",
    "        'n_estimators': [100, 130, 150, 250, 300],\n",
    "        'max_depth': [20, 30, 70, 150],\n",
    "        'min_samples_split': [2, 5, 8]\n",
    "    }\n",
    "    grid_search = GridSearchCV(estimator=rf, param_grid=param_grid, cv=3, scoring='neg_mean_squared_error', n_jobs=-1)\n",
    "    grid_search.fit(X_train, y_train)\n",
    "    best_rf = grid_search.best_estimator_\n",
    "    \n",
    "    y_pred = best_rf.predict(X_test)\n",
    "    mse = mean_squared_error(y_test, y_pred)\n",
    "    mae = mean_absolute_error(y_test, y_pred)\n",
    "    relative_error = np.mean(np.abs((y_test - y_pred) / y_test)) * 100\n",
    "    \n",
    "    print(f'{segment_name} - Random Forest MSE: {mse}')\n",
    "    print(f'{segment_name} - Random Forest MAE: {mae}')\n",
    "    print(f'{segment_name} - Relative Error: {relative_error}%')\n",
    "    print(f\"{segment_name} - Best Parameters:\", grid_search.best_params_)\n",
    "    \n",
    "    # Save the best model in the current working directory\n",
    "    save_path = os.getcwd()\n",
    "    save_file = os.path.join(save_path, f\"best_rf_{segment_name}.joblib\")\n",
    "    joblib.dump(best_rf, save_file)\n"
   ]
  }
 ],
 "metadata": {
  "kernelspec": {
   "display_name": "Python 3 (ipykernel)",
   "language": "python",
   "name": "python3"
  },
  "language_info": {
   "codemirror_mode": {
    "name": "ipython",
    "version": 3
   },
   "file_extension": ".py",
   "mimetype": "text/x-python",
   "name": "python",
   "nbconvert_exporter": "python",
   "pygments_lexer": "ipython3",
   "version": "3.11.4"
  }
 },
 "nbformat": 4,
 "nbformat_minor": 5
}
